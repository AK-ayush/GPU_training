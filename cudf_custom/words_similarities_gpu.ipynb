{
 "cells": [
  {
   "cell_type": "markdown",
   "metadata": {},
   "source": [
    "### Similarity metrics of words in vector space model using rapids and numba on GPU"
   ]
  },
  {
   "cell_type": "code",
   "execution_count": 1,
   "metadata": {},
   "outputs": [],
   "source": [
    "import cudf\n",
    "import numpy as np\n",
    "from numba import cuda, float32\n",
    "import math"
   ]
  },
  {
   "cell_type": "markdown",
   "metadata": {},
   "source": [
    "Download the glove vectors"
   ]
  },
  {
   "cell_type": "code",
   "execution_count": 2,
   "metadata": {},
   "outputs": [],
   "source": [
    "# download glove vectors from web\n",
    "#!wget http://nlp.stanford.edu/data/glove.6B.zip\n",
    "#!unzip glove.6B.zip    "
   ]
  },
  {
   "cell_type": "code",
   "execution_count": 3,
   "metadata": {},
   "outputs": [
    {
     "name": "stdout",
     "output_type": "stream",
     "text": [
      "the 0.418 0.24968 -0.41242 0.1217 0.34527 -0.044457 -0.49688 -0.17862 -0.00066023 -0.6566 0.27843 -0.14767 -0.55677 0.14658 -0.0095095 0.011658 0.10204 -0.12792 -0.8443 -0.12181 -0.016801 -0.33279 -0.1552 -0.23131 -0.19181 -1.8823 -0.76746 0.099051 -0.42125 -0.19526 4.0071 -0.18594 -0.52287 -0.31681 0.00059213 0.0074449 0.17778 -0.15897 0.012041 -0.054223 -0.29871 -0.15749 -0.34758 -0.045637 -0.44251 0.18785 0.0027849 -0.18411 -0.11514 -0.78581\n"
     ]
    }
   ],
   "source": [
    "!head -1 glove.6B.50d.txt"
   ]
  },
  {
   "cell_type": "code",
   "execution_count": 4,
   "metadata": {},
   "outputs": [],
   "source": [
    "def name_dtype_gen(dim_size=50):\n",
    "    names = ['word']\n",
    "    dtypes = ['str']\n",
    "    for i in range(dim_size):\n",
    "        names.append('dim_'+str(i+1))\n",
    "        dtypes.append(np.float64)\n",
    "    return names,dtypes"
   ]
  },
  {
   "cell_type": "code",
   "execution_count": 5,
   "metadata": {},
   "outputs": [],
   "source": [
    "names, dtypes = name_dtype_gen(50)"
   ]
  },
  {
   "cell_type": "markdown",
   "metadata": {},
   "source": [
    "Reading the word vectors using `cudf.read_csv()` and then processing on GPU using numba. "
   ]
  },
  {
   "cell_type": "code",
   "execution_count": 6,
   "metadata": {},
   "outputs": [
    {
     "name": "stdout",
     "output_type": "stream",
     "text": [
      "CPU times: user 353 ms, sys: 765 ms, total: 1.12 s\n",
      "Wall time: 1.13 s\n"
     ]
    }
   ],
   "source": [
    "%time df = cudf.read_csv(\"glove.6B.50d.txt\", delim_whitespace=True, names=names, quoting=3)  #ignore quoting "
   ]
  },
  {
   "cell_type": "code",
   "execution_count": 7,
   "metadata": {},
   "outputs": [
    {
     "name": "stdout",
     "output_type": "stream",
     "text": [
      "    word                dim_1                dim_2                dim_3                 dim_4                dim_5                 dim_6 ...                 dim_50\n",
      "0   the  0.41800000000000004              0.24968 -0.41242000000000006   0.12170000000000002              0.34527 -0.044456999999999997 ...               -0.78581\n",
      "1     ,             0.013441              0.23682 -0.16899000000000003   0.40951000000000004   0.6381200000000001               0.47709 ...     0.3039200000000001\n",
      "2     .              0.15164  0.30177000000000004             -0.16763   0.17684000000000002              0.31719   0.33973000000000003 ...    0.10216000000000001\n",
      "3    of              0.70853   0.5708799999999999              -0.4716               0.18048              0.54449    0.7260300000000001 ...    -0.8037500000000001\n",
      "4    to              0.68047            -0.039263   0.3018600000000001  -0.17792000000000002  0.42962000000000006              0.032246 ...               -0.26044\n",
      "5   and  0.26818000000000003  0.14346000000000003             -0.27877              0.016257              0.11384               0.69923 ...    -0.3809700000000001\n",
      "6    in   0.3304200000000001  0.24995000000000003  -0.6087400000000002   0.10923000000000001             0.036372                 0.151 ...               -0.53285\n",
      "7     a  0.21705000000000002              0.46515 -0.46757000000000004               0.10082   1.0134999999999998    0.7484500000000001 ...                 0.1796\n",
      "8     \"              0.25769              0.45629  -0.7697400000000002              -0.37679              0.59272             -0.063527 ...                0.97065\n",
      "9    's              0.23727  0.40478000000000003             -0.20547               0.58805   0.6553300000000001    0.3286700000000001 ...  -0.030230999999999997\n",
      "[399990 more rows]\n",
      "[43 more columns]\n"
     ]
    }
   ],
   "source": [
    "print(df)"
   ]
  },
  {
   "cell_type": "code",
   "execution_count": 8,
   "metadata": {},
   "outputs": [
    {
     "name": "stdout",
     "output_type": "stream",
     "text": [
      "(400000, 51)\n"
     ]
    }
   ],
   "source": [
    "print(df.shape)"
   ]
  },
  {
   "cell_type": "code",
   "execution_count": 9,
   "metadata": {},
   "outputs": [],
   "source": [
    "mappings = df['word']"
   ]
  },
  {
   "cell_type": "code",
   "execution_count": 10,
   "metadata": {},
   "outputs": [
    {
     "data": {
      "text/plain": [
       "(400000,)"
      ]
     },
     "execution_count": 10,
     "metadata": {},
     "output_type": "execute_result"
    }
   ],
   "source": [
    "mappings.shape"
   ]
  },
  {
   "cell_type": "code",
   "execution_count": 11,
   "metadata": {},
   "outputs": [
    {
     "name": "stdout",
     "output_type": "stream",
     "text": [
      "CPU times: user 32 µs, sys: 22 µs, total: 54 µs\n",
      "Wall time: 62.2 µs\n"
     ]
    }
   ],
   "source": [
    "%time df.drop_column('word')"
   ]
  },
  {
   "cell_type": "code",
   "execution_count": 12,
   "metadata": {},
   "outputs": [
    {
     "name": "stdout",
     "output_type": "stream",
     "text": [
      "CPU times: user 37.7 ms, sys: 2.3 ms, total: 40 ms\n",
      "Wall time: 38.7 ms\n"
     ]
    }
   ],
   "source": [
    "%time mat = df.as_gpu_matrix()"
   ]
  },
  {
   "cell_type": "code",
   "execution_count": 13,
   "metadata": {},
   "outputs": [
    {
     "name": "stdout",
     "output_type": "stream",
     "text": [
      "(400000, 50)\n",
      "float64\n",
      "0    the\n",
      "1      ,\n",
      "2      .\n",
      "3     of\n",
      "4     to\n",
      "5    and\n",
      "6     in\n",
      "7      a\n",
      "8      \"\n",
      "9     's\n",
      "[399990 more rows]\n",
      "Name: word, dtype: object\n"
     ]
    }
   ],
   "source": [
    "print(mat.shape)\n",
    "print(mat.dtype)\n",
    "print(mappings)"
   ]
  },
  {
   "cell_type": "markdown",
   "metadata": {},
   "source": [
    "---\n",
    "Numba cuda function for calculating the `ecludean distance` between two vectors."
   ]
  },
  {
   "cell_type": "code",
   "execution_count": 14,
   "metadata": {},
   "outputs": [],
   "source": [
    "@cuda.jit(device=True)\n",
    "def ecludean_dist(a,b, dim_size):\n",
    "    summ = 0\n",
    "    for i in range(dim_size):\n",
    "        summ += ((a[i]-b[i])**2)\n",
    "    return math.sqrt(summ)"
   ]
  },
  {
   "cell_type": "markdown",
   "metadata": {},
   "source": [
    "Numba cuda function for calculating the `dot product` of two vectors"
   ]
  },
  {
   "cell_type": "code",
   "execution_count": 15,
   "metadata": {},
   "outputs": [],
   "source": [
    "@cuda.jit(device=True)\n",
    "def dot(a, b, dim_size):\n",
    "    summ = 0\n",
    "    for i in range(dim_size):\n",
    "        summ += (a[i]*b[i])\n",
    "    return summ"
   ]
  },
  {
   "cell_type": "markdown",
   "metadata": {},
   "source": [
    "Numba function for calculating the `cosine similarity` between two vectors"
   ]
  },
  {
   "cell_type": "code",
   "execution_count": 16,
   "metadata": {},
   "outputs": [],
   "source": [
    "@cuda.jit(device=True)\n",
    "def cosine_sim(a, b, dim_size):\n",
    "    return dot(a,b, dim_size) / ( math.sqrt(dot(a, a, dim_size)) * math.sqrt(dot(b, b, dim_size)) )"
   ]
  },
  {
   "cell_type": "markdown",
   "metadata": {},
   "source": [
    "Numba cuda kernel for finding the nearest point using:\n",
    "* ecludean distance\n",
    "* cosine similarity"
   ]
  },
  {
   "cell_type": "code",
   "execution_count": 17,
   "metadata": {},
   "outputs": [],
   "source": [
    "@cuda.jit('void(float64[:,:], int32[:], int32[:], int32, int32)')\n",
    "def find_nearest(mat, out_1, out_2, dim_size, n):\n",
    "    idx = cuda.threadIdx.x + cuda.blockDim.x * cuda.blockIdx.x\n",
    "    if idx >= n:\n",
    "        return\n",
    "    e = 9999999.0\n",
    "    e_i = idx\n",
    "    \n",
    "    c = -1.0 \n",
    "    c_i = idx\n",
    "    \n",
    "    # here is room for improvement using shared memory \n",
    "    for i in range(n):\n",
    "        if i == idx:\n",
    "            continue\n",
    "        dist = ecludean_dist(mat[idx], mat[i], dim_size)\n",
    "        csim = cosine_sim(mat[idx], mat[i], dim_size)\n",
    "        if dist <= e:\n",
    "            e_i = i\n",
    "            e = dist\n",
    "        if csim >= c:\n",
    "            c_i = i\n",
    "            c = csim\n",
    "    \n",
    "    out_1[idx] = e_i\n",
    "    out_2[idx] = c_i"
   ]
  },
  {
   "cell_type": "markdown",
   "metadata": {},
   "source": [
    "Configuration parameters for invoking the kernel on gpu:\n",
    "* defining threads per block (`tpb`)\n",
    "* computing block per grid (`bpg`) by dividing the `#words` by `tpb`\n"
   ]
  },
  {
   "cell_type": "code",
   "execution_count": 18,
   "metadata": {},
   "outputs": [
    {
     "data": {
      "text/plain": [
       "(32, 12500)"
      ]
     },
     "execution_count": 18,
     "metadata": {},
     "output_type": "execute_result"
    }
   ],
   "source": [
    "n = mat.shape[0]\n",
    "dim_size = mat.shape[1]\n",
    "device = cuda.get_current_device()\n",
    "\n",
    "tpb = device.WARP_SIZE    #blocksize or thread per block\n",
    "bpg = int(np.ceil((n)/tpb))  # block per grid\n",
    "(tpb, bpg)"
   ]
  },
  {
   "cell_type": "markdown",
   "metadata": {},
   "source": [
    "out arrays to store the indices of nearest points using both the approaches."
   ]
  },
  {
   "cell_type": "code",
   "execution_count": 19,
   "metadata": {},
   "outputs": [],
   "source": [
    "out_1 = cuda.device_array(shape=n, dtype=np.int32)\n",
    "out_2 = cuda.device_array(shape=n, dtype=np.int32)"
   ]
  },
  {
   "cell_type": "code",
   "execution_count": 20,
   "metadata": {},
   "outputs": [
    {
     "name": "stdout",
     "output_type": "stream",
     "text": [
      "CPU times: user 1min 18s, sys: 3min 3s, total: 4min 22s\n",
      "Wall time: 4min 23s\n"
     ]
    }
   ],
   "source": [
    "%%time\n",
    "find_nearest[bpg,tpb](mat, out_1, out_2, dim_size, n)\n",
    "cuda.synchronize()"
   ]
  },
  {
   "cell_type": "code",
   "execution_count": 20,
   "metadata": {},
   "outputs": [],
   "source": [
    "#out_1.copy_to_host()"
   ]
  },
  {
   "cell_type": "code",
   "execution_count": 21,
   "metadata": {},
   "outputs": [],
   "source": [
    "#out_2.copy_to_host()"
   ]
  },
  {
   "cell_type": "code",
   "execution_count": 21,
   "metadata": {},
   "outputs": [],
   "source": [
    "result_df = cudf.DataFrame({'word':mappings})\n",
    "result_df['ecludean'] = mappings.iloc[out_1]\n",
    "result_df['cosine']= mappings.iloc[out_2]"
   ]
  },
  {
   "cell_type": "code",
   "execution_count": 22,
   "metadata": {},
   "outputs": [
    {
     "data": {
      "text/html": [
       "<div>\n",
       "<style scoped>\n",
       "    .dataframe tbody tr th:only-of-type {\n",
       "        vertical-align: middle;\n",
       "    }\n",
       "\n",
       "    .dataframe tbody tr th {\n",
       "        vertical-align: top;\n",
       "    }\n",
       "\n",
       "    .dataframe thead th {\n",
       "        text-align: right;\n",
       "    }\n",
       "</style>\n",
       "<table border=\"1\" class=\"dataframe\">\n",
       "  <thead>\n",
       "    <tr style=\"text-align: right;\">\n",
       "      <th></th>\n",
       "      <th>word</th>\n",
       "      <th>ecludean</th>\n",
       "      <th>cosine</th>\n",
       "    </tr>\n",
       "  </thead>\n",
       "  <tbody>\n",
       "    <tr>\n",
       "      <th>0</th>\n",
       "      <td>the</td>\n",
       "      <td>which</td>\n",
       "      <td>which</td>\n",
       "    </tr>\n",
       "    <tr>\n",
       "      <th>1</th>\n",
       "      <td>,</td>\n",
       "      <td>.</td>\n",
       "      <td>.</td>\n",
       "    </tr>\n",
       "    <tr>\n",
       "      <th>2</th>\n",
       "      <td>.</td>\n",
       "      <td>same</td>\n",
       "      <td>same</td>\n",
       "    </tr>\n",
       "    <tr>\n",
       "      <th>3</th>\n",
       "      <td>of</td>\n",
       "      <td>which</td>\n",
       "      <td>which</td>\n",
       "    </tr>\n",
       "    <tr>\n",
       "      <th>4</th>\n",
       "      <td>to</td>\n",
       "      <td>take</td>\n",
       "      <td>take</td>\n",
       "    </tr>\n",
       "    <tr>\n",
       "      <th>5</th>\n",
       "      <td>and</td>\n",
       "      <td>well</td>\n",
       "      <td>well</td>\n",
       "    </tr>\n",
       "    <tr>\n",
       "      <th>6</th>\n",
       "      <td>in</td>\n",
       "      <td>from</td>\n",
       "      <td>from</td>\n",
       "    </tr>\n",
       "    <tr>\n",
       "      <th>7</th>\n",
       "      <td>a</td>\n",
       "      <td>an</td>\n",
       "      <td>another</td>\n",
       "    </tr>\n",
       "    <tr>\n",
       "      <th>8</th>\n",
       "      <td>\"</td>\n",
       "      <td>“</td>\n",
       "      <td>“</td>\n",
       "    </tr>\n",
       "    <tr>\n",
       "      <th>9</th>\n",
       "      <td>'s</td>\n",
       "      <td>has</td>\n",
       "      <td>has</td>\n",
       "    </tr>\n",
       "    <tr>\n",
       "      <th>10</th>\n",
       "      <td>for</td>\n",
       "      <td>making</td>\n",
       "      <td>making</td>\n",
       "    </tr>\n",
       "    <tr>\n",
       "      <th>11</th>\n",
       "      <td>-</td>\n",
       "      <td>--</td>\n",
       "      <td>--</td>\n",
       "    </tr>\n",
       "    <tr>\n",
       "      <th>12</th>\n",
       "      <td>that</td>\n",
       "      <td>but</td>\n",
       "      <td>but</td>\n",
       "    </tr>\n",
       "    <tr>\n",
       "      <th>13</th>\n",
       "      <td>on</td>\n",
       "      <td>.</td>\n",
       "      <td>before</td>\n",
       "    </tr>\n",
       "    <tr>\n",
       "      <th>14</th>\n",
       "      <td>is</td>\n",
       "      <td>this</td>\n",
       "      <td>this</td>\n",
       "    </tr>\n",
       "    <tr>\n",
       "      <th>15</th>\n",
       "      <td>was</td>\n",
       "      <td>later</td>\n",
       "      <td>later</td>\n",
       "    </tr>\n",
       "    <tr>\n",
       "      <th>16</th>\n",
       "      <td>said</td>\n",
       "      <td>told</td>\n",
       "      <td>told</td>\n",
       "    </tr>\n",
       "    <tr>\n",
       "      <th>17</th>\n",
       "      <td>with</td>\n",
       "      <td>and</td>\n",
       "      <td>and</td>\n",
       "    </tr>\n",
       "    <tr>\n",
       "      <th>18</th>\n",
       "      <td>he</td>\n",
       "      <td>when</td>\n",
       "      <td>his</td>\n",
       "    </tr>\n",
       "    <tr>\n",
       "      <th>19</th>\n",
       "      <td>as</td>\n",
       "      <td>also</td>\n",
       "      <td>also</td>\n",
       "    </tr>\n",
       "    <tr>\n",
       "      <th>20</th>\n",
       "      <td>it</td>\n",
       "      <td>this</td>\n",
       "      <td>this</td>\n",
       "    </tr>\n",
       "    <tr>\n",
       "      <th>21</th>\n",
       "      <td>by</td>\n",
       "      <td>also</td>\n",
       "      <td>also</td>\n",
       "    </tr>\n",
       "    <tr>\n",
       "      <th>22</th>\n",
       "      <td>at</td>\n",
       "      <td>opened</td>\n",
       "      <td>opened</td>\n",
       "    </tr>\n",
       "    <tr>\n",
       "      <th>23</th>\n",
       "      <td>(</td>\n",
       "      <td>)</td>\n",
       "      <td>)</td>\n",
       "    </tr>\n",
       "    <tr>\n",
       "      <th>24</th>\n",
       "      <td>)</td>\n",
       "      <td>(</td>\n",
       "      <td>(</td>\n",
       "    </tr>\n",
       "    <tr>\n",
       "      <th>25</th>\n",
       "      <td>from</td>\n",
       "      <td>in</td>\n",
       "      <td>in</td>\n",
       "    </tr>\n",
       "    <tr>\n",
       "      <th>26</th>\n",
       "      <td>his</td>\n",
       "      <td>he</td>\n",
       "      <td>he</td>\n",
       "    </tr>\n",
       "    <tr>\n",
       "      <th>27</th>\n",
       "      <td>''</td>\n",
       "      <td>``</td>\n",
       "      <td>``</td>\n",
       "    </tr>\n",
       "    <tr>\n",
       "      <th>28</th>\n",
       "      <td>``</td>\n",
       "      <td>''</td>\n",
       "      <td>''</td>\n",
       "    </tr>\n",
       "    <tr>\n",
       "      <th>29</th>\n",
       "      <td>an</td>\n",
       "      <td>a</td>\n",
       "      <td>a</td>\n",
       "    </tr>\n",
       "    <tr>\n",
       "      <th>...</th>\n",
       "      <td>...</td>\n",
       "      <td>...</td>\n",
       "      <td>...</td>\n",
       "    </tr>\n",
       "    <tr>\n",
       "      <th>399970</th>\n",
       "      <td>fardell</td>\n",
       "      <td>oxlee</td>\n",
       "      <td>oxlee</td>\n",
       "    </tr>\n",
       "    <tr>\n",
       "      <th>399971</th>\n",
       "      <td>nurc</td>\n",
       "      <td>iua</td>\n",
       "      <td>gurn</td>\n",
       "    </tr>\n",
       "    <tr>\n",
       "      <th>399972</th>\n",
       "      <td>sauzal</td>\n",
       "      <td>doncello</td>\n",
       "      <td>doncello</td>\n",
       "    </tr>\n",
       "    <tr>\n",
       "      <th>399973</th>\n",
       "      <td>gousmi</td>\n",
       "      <td>ludvik</td>\n",
       "      <td>ludvik</td>\n",
       "    </tr>\n",
       "    <tr>\n",
       "      <th>399974</th>\n",
       "      <td>numbskulls</td>\n",
       "      <td>crew-members</td>\n",
       "      <td>crew-members</td>\n",
       "    </tr>\n",
       "    <tr>\n",
       "      <th>399975</th>\n",
       "      <td>visalakshi</td>\n",
       "      <td>padmavathi</td>\n",
       "      <td>sametha</td>\n",
       "    </tr>\n",
       "    <tr>\n",
       "      <th>399976</th>\n",
       "      <td>lieserl</td>\n",
       "      <td>sanzone</td>\n",
       "      <td>sanzone</td>\n",
       "    </tr>\n",
       "    <tr>\n",
       "      <th>399977</th>\n",
       "      <td>ulundurpet</td>\n",
       "      <td>karpenisi</td>\n",
       "      <td>oppegård</td>\n",
       "    </tr>\n",
       "    <tr>\n",
       "      <th>399978</th>\n",
       "      <td>arpita</td>\n",
       "      <td>loung</td>\n",
       "      <td>loung</td>\n",
       "    </tr>\n",
       "    <tr>\n",
       "      <th>399979</th>\n",
       "      <td>ineta</td>\n",
       "      <td>dmitrijs</td>\n",
       "      <td>dmitrijs</td>\n",
       "    </tr>\n",
       "    <tr>\n",
       "      <th>399980</th>\n",
       "      <td>whirlow</td>\n",
       "      <td>blakesley</td>\n",
       "      <td>coldham</td>\n",
       "    </tr>\n",
       "    <tr>\n",
       "      <th>399981</th>\n",
       "      <td>wanz</td>\n",
       "      <td>abberline</td>\n",
       "      <td>abberline</td>\n",
       "    </tr>\n",
       "    <tr>\n",
       "      <th>399982</th>\n",
       "      <td>t22</td>\n",
       "      <td>t15</td>\n",
       "      <td>t24</td>\n",
       "    </tr>\n",
       "    <tr>\n",
       "      <th>399983</th>\n",
       "      <td>slann</td>\n",
       "      <td>folksingers</td>\n",
       "      <td>afro-guyanese</td>\n",
       "    </tr>\n",
       "    <tr>\n",
       "      <th>399984</th>\n",
       "      <td>kunimoto</td>\n",
       "      <td>lemcke</td>\n",
       "      <td>chryssa</td>\n",
       "    </tr>\n",
       "    <tr>\n",
       "      <th>399985</th>\n",
       "      <td>altares</td>\n",
       "      <td>barones</td>\n",
       "      <td>cuervos</td>\n",
       "    </tr>\n",
       "    <tr>\n",
       "      <th>399986</th>\n",
       "      <td>cipolletti</td>\n",
       "      <td>nasimi</td>\n",
       "      <td>nasimi</td>\n",
       "    </tr>\n",
       "    <tr>\n",
       "      <th>399987</th>\n",
       "      <td>sherwoods</td>\n",
       "      <td>levines</td>\n",
       "      <td>levines</td>\n",
       "    </tr>\n",
       "    <tr>\n",
       "      <th>399988</th>\n",
       "      <td>sullana</td>\n",
       "      <td>moyobamba</td>\n",
       "      <td>kratié</td>\n",
       "    </tr>\n",
       "    <tr>\n",
       "      <th>399989</th>\n",
       "      <td>29km</td>\n",
       "      <td>atthe</td>\n",
       "      <td>75km</td>\n",
       "    </tr>\n",
       "    <tr>\n",
       "      <th>399990</th>\n",
       "      <td>sigarms</td>\n",
       "      <td>curis</td>\n",
       "      <td>curis</td>\n",
       "    </tr>\n",
       "    <tr>\n",
       "      <th>399991</th>\n",
       "      <td>katuna</td>\n",
       "      <td>goreme</td>\n",
       "      <td>hegyeshalom</td>\n",
       "    </tr>\n",
       "    <tr>\n",
       "      <th>399992</th>\n",
       "      <td>aqm</td>\n",
       "      <td>ntust</td>\n",
       "      <td>ntust</td>\n",
       "    </tr>\n",
       "    <tr>\n",
       "      <th>399993</th>\n",
       "      <td>1.3775</td>\n",
       "      <td>1.5347</td>\n",
       "      <td>1.5347</td>\n",
       "    </tr>\n",
       "    <tr>\n",
       "      <th>399994</th>\n",
       "      <td>corythosaurus</td>\n",
       "      <td>caudipteryx</td>\n",
       "      <td>gryposaurus</td>\n",
       "    </tr>\n",
       "    <tr>\n",
       "      <th>399995</th>\n",
       "      <td>chanty</td>\n",
       "      <td>inconstant</td>\n",
       "      <td>chanteys</td>\n",
       "    </tr>\n",
       "    <tr>\n",
       "      <th>399996</th>\n",
       "      <td>kronik</td>\n",
       "      <td>woodell</td>\n",
       "      <td>neku</td>\n",
       "    </tr>\n",
       "    <tr>\n",
       "      <th>399997</th>\n",
       "      <td>rolonda</td>\n",
       "      <td>82,300</td>\n",
       "      <td>16,924</td>\n",
       "    </tr>\n",
       "    <tr>\n",
       "      <th>399998</th>\n",
       "      <td>zsombor</td>\n",
       "      <td>oganesian</td>\n",
       "      <td>kerekes</td>\n",
       "    </tr>\n",
       "    <tr>\n",
       "      <th>399999</th>\n",
       "      <td>sandberger</td>\n",
       "      <td>wehrung</td>\n",
       "      <td>wehrung</td>\n",
       "    </tr>\n",
       "  </tbody>\n",
       "</table>\n",
       "<p>400000 rows × 3 columns</p>\n",
       "</div>"
      ],
      "text/plain": [
       "                 word      ecludean         cosine\n",
       "0                 the         which          which\n",
       "1                   ,             .              .\n",
       "2                   .          same           same\n",
       "3                  of         which          which\n",
       "4                  to          take           take\n",
       "5                 and          well           well\n",
       "6                  in          from           from\n",
       "7                   a            an        another\n",
       "8                   \"             “              “\n",
       "9                  's           has            has\n",
       "10                for        making         making\n",
       "11                  -            --             --\n",
       "12               that           but            but\n",
       "13                 on             .         before\n",
       "14                 is          this           this\n",
       "15                was         later          later\n",
       "16               said          told           told\n",
       "17               with           and            and\n",
       "18                 he          when            his\n",
       "19                 as          also           also\n",
       "20                 it          this           this\n",
       "21                 by          also           also\n",
       "22                 at        opened         opened\n",
       "23                  (             )              )\n",
       "24                  )             (              (\n",
       "25               from            in             in\n",
       "26                his            he             he\n",
       "27                 ''            ``             ``\n",
       "28                 ``            ''             ''\n",
       "29                 an             a              a\n",
       "...               ...           ...            ...\n",
       "399970        fardell         oxlee          oxlee\n",
       "399971           nurc           iua           gurn\n",
       "399972         sauzal      doncello       doncello\n",
       "399973         gousmi        ludvik         ludvik\n",
       "399974     numbskulls  crew-members   crew-members\n",
       "399975     visalakshi    padmavathi        sametha\n",
       "399976        lieserl       sanzone        sanzone\n",
       "399977     ulundurpet     karpenisi       oppegård\n",
       "399978         arpita         loung          loung\n",
       "399979          ineta      dmitrijs       dmitrijs\n",
       "399980        whirlow     blakesley        coldham\n",
       "399981           wanz     abberline      abberline\n",
       "399982            t22           t15            t24\n",
       "399983          slann   folksingers  afro-guyanese\n",
       "399984       kunimoto        lemcke        chryssa\n",
       "399985        altares       barones        cuervos\n",
       "399986     cipolletti        nasimi         nasimi\n",
       "399987      sherwoods       levines        levines\n",
       "399988        sullana     moyobamba         kratié\n",
       "399989           29km         atthe           75km\n",
       "399990        sigarms         curis          curis\n",
       "399991         katuna        goreme    hegyeshalom\n",
       "399992            aqm         ntust          ntust\n",
       "399993         1.3775        1.5347         1.5347\n",
       "399994  corythosaurus   caudipteryx    gryposaurus\n",
       "399995         chanty    inconstant       chanteys\n",
       "399996         kronik       woodell           neku\n",
       "399997        rolonda        82,300         16,924\n",
       "399998        zsombor     oganesian        kerekes\n",
       "399999     sandberger       wehrung        wehrung\n",
       "\n",
       "[400000 rows x 3 columns]"
      ]
     },
     "execution_count": 22,
     "metadata": {},
     "output_type": "execute_result"
    }
   ],
   "source": [
    "result_df.to_pandas()"
   ]
  },
  {
   "cell_type": "code",
   "execution_count": null,
   "metadata": {},
   "outputs": [],
   "source": []
  }
 ],
 "metadata": {
  "kernelspec": {
   "display_name": "Python 3",
   "language": "python",
   "name": "python3"
  },
  "language_info": {
   "codemirror_mode": {
    "name": "ipython",
    "version": 3
   },
   "file_extension": ".py",
   "mimetype": "text/x-python",
   "name": "python",
   "nbconvert_exporter": "python",
   "pygments_lexer": "ipython3",
   "version": "3.6.8"
  }
 },
 "nbformat": 4,
 "nbformat_minor": 4
}
