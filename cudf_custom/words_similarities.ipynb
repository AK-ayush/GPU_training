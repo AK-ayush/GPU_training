{
 "cells": [
  {
   "cell_type": "markdown",
   "metadata": {},
   "source": [
    "### Similarity metrics of words in vector space model using rapids and numba on GPU"
   ]
  },
  {
   "cell_type": "code",
   "execution_count": null,
   "metadata": {},
   "outputs": [],
   "source": [
    "import cudf\n",
    "import numpy as np\n",
    "from numba import cuda, float32\n",
    "import math"
   ]
  },
  {
   "cell_type": "markdown",
   "metadata": {},
   "source": [
    "Download the glove vectors"
   ]
  },
  {
   "cell_type": "code",
   "execution_count": null,
   "metadata": {},
   "outputs": [],
   "source": [
    "# download glove vectors from web\n",
    "#!wget http://nlp.stanford.edu/data/glove.6B.zip\n",
    "#!unzip glove.6B.zip    "
   ]
  },
  {
   "cell_type": "code",
   "execution_count": 2,
   "metadata": {},
   "outputs": [],
   "source": [
    "def name_dtype_gen(dim_size=50):\n",
    "    names = ['word']\n",
    "    dtypes = ['str']\n",
    "    for i in range(dim_size):\n",
    "        names.append('dim_'+str(i+1))\n",
    "        dtypes.append(np.float64)\n",
    "    return names,dtypes"
   ]
  },
  {
   "cell_type": "code",
   "execution_count": 3,
   "metadata": {},
   "outputs": [],
   "source": [
    "names, dtypes = name_dtype_gen(50)"
   ]
  },
  {
   "cell_type": "markdown",
   "metadata": {},
   "source": [
    "Reading the word vectors using `cudf.read_csv()` and then processing on GPU using numba. "
   ]
  },
  {
   "cell_type": "code",
   "execution_count": 4,
   "metadata": {},
   "outputs": [],
   "source": [
    "df = cudf.read_csv(\"glove.6B.50d.txt\", delim_whitespace=True, names=names, quoting=3)  #ignore quoting "
   ]
  },
  {
   "cell_type": "code",
   "execution_count": 5,
   "metadata": {},
   "outputs": [
    {
     "name": "stdout",
     "output_type": "stream",
     "text": [
      "    word                dim_1                dim_2                dim_3                 dim_4                dim_5                 dim_6 ...                 dim_50\n",
      "0   the  0.41800000000000004              0.24968 -0.41242000000000006   0.12170000000000002              0.34527 -0.044456999999999997 ...               -0.78581\n",
      "1     ,             0.013441              0.23682 -0.16899000000000003   0.40951000000000004   0.6381200000000001               0.47709 ...     0.3039200000000001\n",
      "2     .              0.15164  0.30177000000000004             -0.16763   0.17684000000000002              0.31719   0.33973000000000003 ...    0.10216000000000001\n",
      "3    of              0.70853   0.5708799999999999              -0.4716               0.18048              0.54449    0.7260300000000001 ...    -0.8037500000000001\n",
      "4    to              0.68047            -0.039263   0.3018600000000001  -0.17792000000000002  0.42962000000000006              0.032246 ...               -0.26044\n",
      "5   and  0.26818000000000003  0.14346000000000003             -0.27877              0.016257              0.11384               0.69923 ...    -0.3809700000000001\n",
      "6    in   0.3304200000000001  0.24995000000000003  -0.6087400000000002   0.10923000000000001             0.036372                 0.151 ...               -0.53285\n",
      "7     a  0.21705000000000002              0.46515 -0.46757000000000004               0.10082   1.0134999999999998    0.7484500000000001 ...                 0.1796\n",
      "8     \"              0.25769              0.45629  -0.7697400000000002              -0.37679              0.59272             -0.063527 ...                0.97065\n",
      "9    's              0.23727  0.40478000000000003             -0.20547               0.58805   0.6553300000000001    0.3286700000000001 ...  -0.030230999999999997\n",
      "[399990 more rows]\n",
      "[43 more columns]\n"
     ]
    }
   ],
   "source": [
    "print(df)"
   ]
  },
  {
   "cell_type": "code",
   "execution_count": 6,
   "metadata": {},
   "outputs": [
    {
     "name": "stdout",
     "output_type": "stream",
     "text": [
      "(400000, 51)\n"
     ]
    }
   ],
   "source": [
    "print(df.shape)"
   ]
  },
  {
   "cell_type": "code",
   "execution_count": 7,
   "metadata": {},
   "outputs": [],
   "source": [
    "mappings = df['word']"
   ]
  },
  {
   "cell_type": "code",
   "execution_count": 8,
   "metadata": {},
   "outputs": [
    {
     "data": {
      "text/plain": [
       "(400000,)"
      ]
     },
     "execution_count": 8,
     "metadata": {},
     "output_type": "execute_result"
    }
   ],
   "source": [
    "mappings.shape"
   ]
  },
  {
   "cell_type": "code",
   "execution_count": 9,
   "metadata": {},
   "outputs": [],
   "source": [
    "df.drop_column('word')"
   ]
  },
  {
   "cell_type": "code",
   "execution_count": 10,
   "metadata": {},
   "outputs": [],
   "source": [
    "mat = df.as_gpu_matrix()"
   ]
  },
  {
   "cell_type": "code",
   "execution_count": 11,
   "metadata": {},
   "outputs": [
    {
     "name": "stdout",
     "output_type": "stream",
     "text": [
      "(400000, 50)\n",
      "float64\n",
      "0    the\n",
      "1      ,\n",
      "2      .\n",
      "3     of\n",
      "4     to\n",
      "5    and\n",
      "6     in\n",
      "7      a\n",
      "8      \"\n",
      "9     's\n",
      "[399990 more rows]\n",
      "Name: word, dtype: object\n"
     ]
    }
   ],
   "source": [
    "print(mat.shape)\n",
    "print(mat.dtype)\n",
    "print(mappings)"
   ]
  },
  {
   "cell_type": "markdown",
   "metadata": {},
   "source": [
    "---\n",
    "Numba cuda function for calculating the `ecludean distance` between two vectors."
   ]
  },
  {
   "cell_type": "code",
   "execution_count": 12,
   "metadata": {},
   "outputs": [],
   "source": [
    "@cuda.jit(device=True)\n",
    "def ecludean_dist(a,b, dim_size):\n",
    "    summ = 0\n",
    "    for i in range(dim_size):\n",
    "        summ += ((a[i]-b[i])**2)\n",
    "    return math.sqrt(summ)"
   ]
  },
  {
   "cell_type": "markdown",
   "metadata": {},
   "source": [
    "Numba cuda function for calculating the `dot product` of two vectors"
   ]
  },
  {
   "cell_type": "code",
   "execution_count": 13,
   "metadata": {},
   "outputs": [],
   "source": [
    "@cuda.jit(device=True)\n",
    "def dot(a, b, dim_size):\n",
    "    summ = 0\n",
    "    for i in range(dim_size):\n",
    "        summ += (a[i]*b[i])\n",
    "    return summ"
   ]
  },
  {
   "cell_type": "markdown",
   "metadata": {},
   "source": [
    "Numba function for calculating the `cosine similarity` between two vectors"
   ]
  },
  {
   "cell_type": "code",
   "execution_count": 14,
   "metadata": {},
   "outputs": [],
   "source": [
    "@cuda.jit(device=True)\n",
    "def cosine_sim(a, b, dim_size):\n",
    "    return dot(a,b, dim_size) / ( math.sqrt(dot(a, a, dim_size)) * math.sqrt(dot(b, b, dim_size)) )"
   ]
  },
  {
   "cell_type": "markdown",
   "metadata": {},
   "source": [
    "Numba cuda kernel for finding the nearest point using:\n",
    "* ecludean distance\n",
    "* cosine similarity"
   ]
  },
  {
   "cell_type": "code",
   "execution_count": 15,
   "metadata": {},
   "outputs": [],
   "source": [
    "@cuda.jit('void(float64[:,:], int32[:], int32[:], int32, int32)')\n",
    "def find_nearest(mat, out_1, out_2, dim_size, n):\n",
    "    idx = cuda.threadIdx.x + cuda.blockDim.x * cuda.blockIdx.x\n",
    "    if idx >= n:\n",
    "        return\n",
    "    e = 9999999.0\n",
    "    e_i = idx\n",
    "    \n",
    "    c = -1.0 \n",
    "    c_i = idx\n",
    "    \n",
    "    # here is room for improvement using shared memory \n",
    "    for i in range(n):\n",
    "        if i == idx:\n",
    "            continue\n",
    "        dist = ecludean_dist(mat[idx], mat[i], dim_size)\n",
    "        csim = cosine_sim(mat[idx], mat[i], dim_size)\n",
    "        if dist <= e:\n",
    "            e_i = i\n",
    "            e = dist\n",
    "        if csim >= c:\n",
    "            c_i = i\n",
    "            c = csim\n",
    "    \n",
    "    out_1[idx] = e_i\n",
    "    out_2[idx] = c_i"
   ]
  },
  {
   "cell_type": "markdown",
   "metadata": {},
   "source": [
    "configuration parameters for invoking the kernel on gpu"
   ]
  },
  {
   "cell_type": "code",
   "execution_count": 16,
   "metadata": {},
   "outputs": [
    {
     "data": {
      "text/plain": [
       "(32, 12500)"
      ]
     },
     "execution_count": 16,
     "metadata": {},
     "output_type": "execute_result"
    }
   ],
   "source": [
    "n = mat.shape[0]\n",
    "dim_size = mat.shape[1]\n",
    "device = cuda.get_current_device()\n",
    "\n",
    "tpb = device.WARP_SIZE    #blocksize or thread per block\n",
    "bpg = int(np.ceil((n)/tpb))  # block per grid\n",
    "(tpb, bpg)"
   ]
  },
  {
   "cell_type": "markdown",
   "metadata": {},
   "source": [
    "out arrays to store the indices of nearest points using both the approaches."
   ]
  },
  {
   "cell_type": "code",
   "execution_count": 17,
   "metadata": {},
   "outputs": [],
   "source": [
    "out_1 = cuda.device_array(shape=n, dtype=np.int32)\n",
    "out_2 = cuda.device_array(shape=n, dtype=np.int32)"
   ]
  },
  {
   "cell_type": "code",
   "execution_count": 18,
   "metadata": {},
   "outputs": [
    {
     "name": "stdout",
     "output_type": "stream",
     "text": [
      "CPU times: user 1min 25s, sys: 2min 57s, total: 4min 23s\n",
      "Wall time: 4min 23s\n"
     ]
    }
   ],
   "source": [
    "%%time\n",
    "find_nearest[bpg,tpb](mat, out_1, out_2, dim_size, n)\n",
    "cuda.synchronize()"
   ]
  },
  {
   "cell_type": "code",
   "execution_count": 19,
   "metadata": {},
   "outputs": [
    {
     "data": {
      "text/plain": [
       "array([    42,      2,    215, ..., 394441, 390139, 304408], dtype=int32)"
      ]
     },
     "execution_count": 19,
     "metadata": {},
     "output_type": "execute_result"
    }
   ],
   "source": [
    "out_1.copy_to_host()"
   ]
  },
  {
   "cell_type": "code",
   "execution_count": 20,
   "metadata": {},
   "outputs": [
    {
     "data": {
      "text/plain": [
       "array([    42,      2,    215, ..., 395706, 186361, 304408], dtype=int32)"
      ]
     },
     "execution_count": 20,
     "metadata": {},
     "output_type": "execute_result"
    }
   ],
   "source": [
    "out_2.copy_to_host()"
   ]
  },
  {
   "cell_type": "code",
   "execution_count": 23,
   "metadata": {},
   "outputs": [
    {
     "name": "stdout",
     "output_type": "stream",
     "text": [
      "0    the\n",
      "1      ,\n",
      "2      .\n",
      "3     of\n",
      "4     to\n",
      "5    and\n",
      "6     in\n",
      "7      a\n",
      "8      \"\n",
      "9     's\n",
      "[399990 more rows]\n",
      "Name: word, dtype: object 42    which\n",
      "2        .\n",
      "215     same\n",
      "42    which\n",
      "190     take\n",
      "143     well\n",
      "25     from\n",
      "29       an\n",
      "1408        “\n",
      "31      has\n",
      "[399990 more rows]\n",
      "Name: word, dtype: object\n"
     ]
    }
   ],
   "source": [
    "print(mappings, mappings.iloc[out_1])"
   ]
  },
  {
   "cell_type": "code",
   "execution_count": 24,
   "metadata": {},
   "outputs": [
    {
     "name": "stdout",
     "output_type": "stream",
     "text": [
      "0    the\n",
      "1      ,\n",
      "2      .\n",
      "3     of\n",
      "4     to\n",
      "5    and\n",
      "6     in\n",
      "7      a\n",
      "8      \"\n",
      "9     's\n",
      "[399990 more rows]\n",
      "Name: word, dtype: object 42      which\n",
      "2          .\n",
      "215       same\n",
      "42      which\n",
      "190       take\n",
      "143       well\n",
      "25       from\n",
      "170    another\n",
      "1408          “\n",
      "31        has\n",
      "[399990 more rows]\n",
      "Name: word, dtype: object\n"
     ]
    }
   ],
   "source": [
    "print(mappings, mappings.iloc[out_2])"
   ]
  },
  {
   "cell_type": "code",
   "execution_count": null,
   "metadata": {},
   "outputs": [],
   "source": []
  }
 ],
 "metadata": {
  "kernelspec": {
   "display_name": "Python 3",
   "language": "python",
   "name": "python3"
  },
  "language_info": {
   "codemirror_mode": {
    "name": "ipython",
    "version": 3
   },
   "file_extension": ".py",
   "mimetype": "text/x-python",
   "name": "python",
   "nbconvert_exporter": "python",
   "pygments_lexer": "ipython3",
   "version": "3.6.8"
  }
 },
 "nbformat": 4,
 "nbformat_minor": 4
}
